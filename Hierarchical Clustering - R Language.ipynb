{
 "cells": [
  {
   "cell_type": "markdown",
   "metadata": {},
   "source": [
    "# Hierarchical Clustering - R Language"
   ]
  },
  {
   "cell_type": "markdown",
   "metadata": {},
   "source": [
    "# Scenario\n",
    "\n",
    " We want to sort different sources of protien into groups based on common characteristics, but how do we group them?\n",
    " Unlike other scenarios where we know how many groups we're looking for, here we don't. This calls for hierarchical clustering.\n",
    " In other words, we'll use a clustering model that will treat each source of protien as a seperate cluster, and start pairing\n",
    " them together one at a time until we have one big cluster that concludes all sources. Then, we'll be able to decifer how many\n",
    " groups we have and characterize them. Let's get to it!"
   ]
  },
  {
   "cell_type": "markdown",
   "metadata": {},
   "source": [
    "First let's load our data set and see what we're looking at."
   ]
  },
  {
   "cell_type": "code",
   "execution_count": 1,
   "metadata": {
    "collapsed": false
   },
   "outputs": [
    {
     "data": {
      "text/html": [
       "<table>\n",
       "<thead><tr><th scope=col>source</th><th scope=col>energy</th><th scope=col>protein</th><th scope=col>fat</th><th scope=col>iron</th></tr></thead>\n",
       "<tbody>\n",
       "\t<tr><td>BEEF BRAISED   </td><td>340            </td><td>20             </td><td>28             </td><td>2.6            </td></tr>\n",
       "\t<tr><td>HAMBURGER      </td><td>245            </td><td>21             </td><td>17             </td><td>2.7            </td></tr>\n",
       "\t<tr><td>BEEF ROAST     </td><td>420            </td><td>15             </td><td>39             </td><td>2.0            </td></tr>\n",
       "\t<tr><td>BEEF STEAK     </td><td>375            </td><td>19             </td><td>32             </td><td>2.6            </td></tr>\n",
       "\t<tr><td>BEEF CANNED    </td><td>180            </td><td>22             </td><td>10             </td><td>3.7            </td></tr>\n",
       "\t<tr><td>CHICKEN BROILED</td><td>115            </td><td>20             </td><td> 3             </td><td>1.4            </td></tr>\n",
       "</tbody>\n",
       "</table>\n"
      ],
      "text/latex": [
       "\\begin{tabular}{r|lllll}\n",
       " source & energy & protein & fat & iron\\\\\n",
       "\\hline\n",
       "\t BEEF BRAISED    & 340             & 20              & 28              & 2.6            \\\\\n",
       "\t HAMBURGER       & 245             & 21              & 17              & 2.7            \\\\\n",
       "\t BEEF ROAST      & 420             & 15              & 39              & 2.0            \\\\\n",
       "\t BEEF STEAK      & 375             & 19              & 32              & 2.6            \\\\\n",
       "\t BEEF CANNED     & 180             & 22              & 10              & 3.7            \\\\\n",
       "\t CHICKEN BROILED & 115             & 20              &  3              & 1.4            \\\\\n",
       "\\end{tabular}\n"
      ],
      "text/markdown": [
       "\n",
       "source | energy | protein | fat | iron | \n",
       "|---|---|---|---|---|---|\n",
       "| BEEF BRAISED    | 340             | 20              | 28              | 2.6             | \n",
       "| HAMBURGER       | 245             | 21              | 17              | 2.7             | \n",
       "| BEEF ROAST      | 420             | 15              | 39              | 2.0             | \n",
       "| BEEF STEAK      | 375             | 19              | 32              | 2.6             | \n",
       "| BEEF CANNED     | 180             | 22              | 10              | 3.7             | \n",
       "| CHICKEN BROILED | 115             | 20              |  3              | 1.4             | \n",
       "\n",
       "\n"
      ],
      "text/plain": [
       "  source          energy protein fat iron\n",
       "1 BEEF BRAISED    340    20      28  2.6 \n",
       "2 HAMBURGER       245    21      17  2.7 \n",
       "3 BEEF ROAST      420    15      39  2.0 \n",
       "4 BEEF STEAK      375    19      32  2.6 \n",
       "5 BEEF CANNED     180    22      10  3.7 \n",
       "6 CHICKEN BROILED 115    20       3  1.4 "
      ]
     },
     "metadata": {},
     "output_type": "display_data"
    }
   ],
   "source": [
    "proteins = read.csv(\"Proteins.csv\")\n",
    "head(proteins)"
   ]
  },
  {
   "cell_type": "markdown",
   "metadata": {},
   "source": [
    " Ok, so are data is intact and all features are numerical as well. which means we can get straight to it.\n",
    " First and foremost we have to scale our features in order to set their relative distance from  one another.\n",
    " This will yield a mean = 0 and stadnerd deviation of 1 for each feature in our data set. We'll be scaling via Standard Scalar\n",
    " to get our Z distributions."
   ]
  },
  {
   "cell_type": "code",
   "execution_count": 2,
   "metadata": {
    "collapsed": false
   },
   "outputs": [
    {
     "data": {
      "text/html": [
       "<table>\n",
       "<thead><tr><th scope=col>energy</th><th scope=col>protein</th><th scope=col>fat</th><th scope=col>iron</th></tr></thead>\n",
       "<tbody>\n",
       "\t<tr><td> 1.2763184 </td><td> 0.25984078</td><td> 1.2536428 </td><td> 0.1497111 </td></tr>\n",
       "\t<tr><td> 0.3545329 </td><td> 0.49280147</td><td> 0.2924046 </td><td> 0.2168230 </td></tr>\n",
       "\t<tr><td> 2.0525589 </td><td>-0.90496270</td><td> 2.2148809 </td><td>-0.2529602 </td></tr>\n",
       "\t<tr><td> 1.6159236 </td><td> 0.02688008</td><td> 1.6031839 </td><td> 0.1497111 </td></tr>\n",
       "\t<tr><td>-0.2761625 </td><td> 0.72576217</td><td>-0.3192924 </td><td> 0.8879419 </td></tr>\n",
       "\t<tr><td>-0.9068578 </td><td> 0.25984078</td><td>-0.9309894 </td><td>-0.6556315 </td></tr>\n",
       "</tbody>\n",
       "</table>\n"
      ],
      "text/latex": [
       "\\begin{tabular}{r|llll}\n",
       " energy & protein & fat & iron\\\\\n",
       "\\hline\n",
       "\t  1.2763184  &  0.25984078 &  1.2536428  &  0.1497111 \\\\\n",
       "\t  0.3545329  &  0.49280147 &  0.2924046  &  0.2168230 \\\\\n",
       "\t  2.0525589  & -0.90496270 &  2.2148809  & -0.2529602 \\\\\n",
       "\t  1.6159236  &  0.02688008 &  1.6031839  &  0.1497111 \\\\\n",
       "\t -0.2761625  &  0.72576217 & -0.3192924  &  0.8879419 \\\\\n",
       "\t -0.9068578  &  0.25984078 & -0.9309894  & -0.6556315 \\\\\n",
       "\\end{tabular}\n"
      ],
      "text/markdown": [
       "\n",
       "energy | protein | fat | iron | \n",
       "|---|---|---|---|---|---|\n",
       "|  1.2763184  |  0.25984078 |  1.2536428  |  0.1497111  | \n",
       "|  0.3545329  |  0.49280147 |  0.2924046  |  0.2168230  | \n",
       "|  2.0525589  | -0.90496270 |  2.2148809  | -0.2529602  | \n",
       "|  1.6159236  |  0.02688008 |  1.6031839  |  0.1497111  | \n",
       "| -0.2761625  |  0.72576217 | -0.3192924  |  0.8879419  | \n",
       "| -0.9068578  |  0.25984078 | -0.9309894  | -0.6556315  | \n",
       "\n",
       "\n"
      ],
      "text/plain": [
       "  energy     protein     fat        iron      \n",
       "1  1.2763184  0.25984078  1.2536428  0.1497111\n",
       "2  0.3545329  0.49280147  0.2924046  0.2168230\n",
       "3  2.0525589 -0.90496270  2.2148809 -0.2529602\n",
       "4  1.6159236  0.02688008  1.6031839  0.1497111\n",
       "5 -0.2761625  0.72576217 -0.3192924  0.8879419\n",
       "6 -0.9068578  0.25984078 -0.9309894 -0.6556315"
      ]
     },
     "metadata": {},
     "output_type": "display_data"
    }
   ],
   "source": [
    "z_proteins = as.data.frame(scale(proteins[,2:5]))\n",
    "head(z_proteins)"
   ]
  },
  {
   "cell_type": "code",
   "execution_count": 3,
   "metadata": {
    "collapsed": false
   },
   "outputs": [
    {
     "data": {
      "text/html": [
       "<dl class=dl-horizontal>\n",
       "\t<dt>energy</dt>\n",
       "\t\t<dd>0</dd>\n",
       "\t<dt>protein</dt>\n",
       "\t\t<dd>0</dd>\n",
       "\t<dt>fat</dt>\n",
       "\t\t<dd>0</dd>\n",
       "\t<dt>iron</dt>\n",
       "\t\t<dd>0</dd>\n",
       "</dl>\n"
      ],
      "text/latex": [
       "\\begin{description*}\n",
       "\\item[energy] 0\n",
       "\\item[protein] 0\n",
       "\\item[fat] 0\n",
       "\\item[iron] 0\n",
       "\\end{description*}\n"
      ],
      "text/markdown": [
       "energy\n",
       ":   0protein\n",
       ":   0fat\n",
       ":   0iron\n",
       ":   0\n",
       "\n"
      ],
      "text/plain": [
       " energy protein     fat    iron \n",
       "      0       0       0       0 "
      ]
     },
     "metadata": {},
     "output_type": "display_data"
    }
   ],
   "source": [
    "round(colMeans(z_proteins), 1)"
   ]
  },
  {
   "cell_type": "code",
   "execution_count": 4,
   "metadata": {
    "collapsed": false
   },
   "outputs": [
    {
     "data": {
      "text/html": [
       "<dl class=dl-horizontal>\n",
       "\t<dt>energy</dt>\n",
       "\t\t<dd>1</dd>\n",
       "\t<dt>protein</dt>\n",
       "\t\t<dd>1</dd>\n",
       "\t<dt>fat</dt>\n",
       "\t\t<dd>1</dd>\n",
       "\t<dt>iron</dt>\n",
       "\t\t<dd>1</dd>\n",
       "</dl>\n"
      ],
      "text/latex": [
       "\\begin{description*}\n",
       "\\item[energy] 1\n",
       "\\item[protein] 1\n",
       "\\item[fat] 1\n",
       "\\item[iron] 1\n",
       "\\end{description*}\n"
      ],
      "text/markdown": [
       "energy\n",
       ":   1protein\n",
       ":   1fat\n",
       ":   1iron\n",
       ":   1\n",
       "\n"
      ],
      "text/plain": [
       " energy protein     fat    iron \n",
       "      1       1       1       1 "
      ]
     },
     "metadata": {},
     "output_type": "display_data"
    }
   ],
   "source": [
    "apply(z_proteins, 2, sd)"
   ]
  },
  {
   "cell_type": "markdown",
   "metadata": {},
   "source": [
    "So now that our data is scaled properly, we would like to know the euclidean distance between each source to all other sorces.\n",
    "We'll take a look at the distance between Hamburger and Beef Steak as an example."
   ]
  },
  {
   "cell_type": "code",
   "execution_count": 5,
   "metadata": {
    "collapsed": false
   },
   "outputs": [
    {
     "data": {
      "text/plain": [
       "            1          2          3          4          5          6          7\n",
       "2  1.35367724                                                                  \n",
       "3  1.74511873 2.95865653                                                       \n",
       "4  0.54016793 1.87905182 1.26305136                                            \n",
       "5  2.37621325 1.12987658 3.97566332 2.88259013                                 \n",
       "6  3.19177901 1.97566371 4.49149853 3.67277938 1.83620569                      \n",
       "7  2.82669371 1.67633852 4.38672950 3.35081039 1.65726135 1.32975517           \n",
       "8  3.73477650 2.78364888 5.34875733 4.18125730 1.81020261 3.36088532 2.96883549\n",
       "9  1.00910870 0.40639847 2.55685133 1.51429076 1.48522989 2.23019560 2.01046169\n",
       "10 0.69063869 1.15499566 1.83885860 0.99928188 2.19658694 2.73862167 2.64816004\n",
       "11 0.06711188 1.35865893 1.73086548 0.54432104 2.39791191 3.17550958 2.80991338\n",
       "12 0.25770308 1.47797107 1.53202454 0.43423656 2.51075167 3.24462285 2.97000789\n",
       "13 0.35215740 1.63930757 1.39882199 0.29363260 2.68092908 3.39033860 3.09521228\n",
       "14 1.85314134 0.85194788 3.11859907 2.29211392 1.30304621 1.56481550 1.89714760\n",
       "15 2.34766216 1.02212169 3.97063354 2.88290358 0.71739884 1.40919927 0.95780353\n",
       "16 3.22082482 2.11429597 4.53250226 3.70131777 2.18949812 0.74204756 1.01848808\n",
       "17 4.69390555 3.89487954 5.53485000 4.97759765 3.27217016 3.76132894 4.57974352\n",
       "18 5.14421275 4.43184737 5.73987956 5.37933526 3.98082229 4.10731366 5.11666533\n",
       "19 3.80254858 2.87493743 4.62704457 4.16363203 2.91762054 1.47728391 2.75334399\n",
       "20 3.29404373 2.40322937 4.18835326 3.66939055 2.63579228 1.14077143 2.23432372\n",
       "21 2.18420362 1.35335493 3.32228439 2.60633491 1.96932499 1.25306633 1.55755612\n",
       "22 2.67123147 1.72421257 3.68190468 3.06153799 1.90949454 1.16873228 2.11853480\n",
       "23 2.41160418 1.65825985 3.32084287 2.76903913 2.13936233 1.40146362 2.14358654\n",
       "24 3.27272125 2.28923822 4.27539966 3.67856011 2.43725468 0.86141214 2.00686217\n",
       "25 2.88582704 1.78183480 4.40670533 3.40084263 1.83890725 1.33482615 0.20133565\n",
       "26 3.32199694 1.97289233 4.86926871 3.84945111 1.29580606 1.08162441 1.17298938\n",
       "            8          9         10         11         12         13         14\n",
       "2                                                                              \n",
       "3                                                                              \n",
       "4                                                                              \n",
       "5                                                                              \n",
       "6                                                                              \n",
       "7                                                                              \n",
       "8                                                                              \n",
       "9  3.10076343                                                                  \n",
       "10 3.76965475 0.75090292                                                       \n",
       "11 3.77496011 1.01133791 0.67413780                                            \n",
       "12 3.91340563 1.09858557 0.58745471 0.24881092                                 \n",
       "13 4.06562142 1.26432074 0.73108007 0.33241964 0.18254743                      \n",
       "14 3.08044402 0.91401503 1.33853779 1.85192570 1.86769008 2.03272628           \n",
       "15 2.29816429 1.42107995 2.15146624 2.35053815 2.49052921 2.64524339 1.26623347\n",
       "16 3.68599514 2.35895223 2.84617912 3.19343957 3.29295960 3.41563697 1.92852856\n",
       "17 3.61941827 3.99239393 4.26663067 4.72689387 4.67342641 4.83526072 3.34410508\n",
       "18 4.59038213 4.47396117 4.62769283 5.16910564 5.07768415 5.22860128 3.74904442\n",
       "19 4.47883338 2.96149619 3.17383313 3.78176355 3.75625825 3.88691780 2.12478496\n",
       "20 4.31504231 2.48270945 2.70074875 3.26589342 3.26267772 3.38286543 1.76026783\n",
       "21 3.75669179 1.40685674 1.69013073 2.15200402 2.19398552 2.31334322 1.03810487\n",
       "22 3.62254522 1.79436918 2.06494928 2.65855553 2.64307284 2.78999503 0.92954532\n",
       "23 3.91762400 1.64601515 1.78945842 2.38814459 2.36444632 2.49003651 0.97149370\n",
       "24 4.08966901 2.41080751 2.70410372 3.24716125 3.26061400 3.38979335 1.67699768\n",
       "25 3.16916038 2.09278680 2.69619730 2.86467966 3.02187412 3.14071510 1.97735818\n",
       "26 2.39809248 2.34670271 3.03224374 3.32267478 3.44093779 3.59994922 1.87122302\n",
       "           15         16         17         18         19         20         21\n",
       "2                                                                              \n",
       "3                                                                              \n",
       "4                                                                              \n",
       "5                                                                              \n",
       "6                                                                              \n",
       "7                                                                              \n",
       "8                                                                              \n",
       "9                                                                              \n",
       "10                                                                             \n",
       "11                                                                             \n",
       "12                                                                             \n",
       "13                                                                             \n",
       "14                                                                             \n",
       "15                                                                             \n",
       "16 1.57060894                                                                  \n",
       "17 3.80179798 4.49076098                                                       \n",
       "18 4.41709614 4.83936556 1.04370391                                            \n",
       "19 2.69178996 1.92679397 3.56546792 3.51966261                                 \n",
       "20 2.27963854 1.40210016 3.93717389 4.01183526 0.71902353                      \n",
       "21 1.52097036 1.25571023 4.17421302 4.46052207 1.85417276 1.21964299           \n",
       "22 1.76318504 1.68252354 3.23585689 3.44398416 1.19976378 0.95969537 1.04380164\n",
       "23 1.89261939 1.69927870 3.67978270 3.85345483 1.40932585 0.94978580 0.74958033\n",
       "24 2.06768044 1.17902108 3.86820951 4.00352084 0.80398965 0.30572877 1.16141470\n",
       "25 1.13234801 0.91358510 4.71494094 5.22252213 2.72621917 2.18231488 1.52689128\n",
       "26 1.01133791 1.40834695 3.62935889 4.22163619 2.42909833 2.19694141 1.97067725\n",
       "           22         23         24         25\n",
       "2                                             \n",
       "3                                             \n",
       "4                                             \n",
       "5                                             \n",
       "6                                             \n",
       "7                                             \n",
       "8                                             \n",
       "9                                             \n",
       "10                                            \n",
       "11                                            \n",
       "12                                            \n",
       "13                                            \n",
       "14                                            \n",
       "15                                            \n",
       "16                                            \n",
       "17                                            \n",
       "18                                            \n",
       "19                                            \n",
       "20                                            \n",
       "21                                            \n",
       "22                                            \n",
       "23 0.54201678                                 \n",
       "24 0.91474915 1.01039693                      \n",
       "25 2.14704398 2.14043249 1.96261039           \n",
       "26 1.90443859 2.20551148 1.92646940 1.30908536"
      ]
     },
     "metadata": {},
     "output_type": "display_data"
    }
   ],
   "source": [
    "d = dist(z_proteins)\n",
    "d"
   ]
  },
  {
   "cell_type": "markdown",
   "metadata": {},
   "source": [
    "We can see for instance that the euclidean distance between Hamburger and Beef Steak is 1.87905182497182"
   ]
  },
  {
   "cell_type": "code",
   "execution_count": 6,
   "metadata": {
    "collapsed": false
   },
   "outputs": [
    {
     "data": {
      "text/html": [
       "1.87905182497182"
      ],
      "text/latex": [
       "1.87905182497182"
      ],
      "text/markdown": [
       "1.87905182497182"
      ],
      "text/plain": [
       "[1] 1.879052"
      ]
     },
     "metadata": {},
     "output_type": "display_data"
    }
   ],
   "source": [
    "as.matrix(d)[2,4]"
   ]
  },
  {
   "cell_type": "code",
   "execution_count": 7,
   "metadata": {
    "collapsed": false
   },
   "outputs": [
    {
     "data": {
      "text/html": [
       "1.87905182497182"
      ],
      "text/latex": [
       "1.87905182497182"
      ],
      "text/markdown": [
       "1.87905182497182"
      ],
      "text/plain": [
       "[1] 1.879052"
      ]
     },
     "metadata": {},
     "output_type": "display_data"
    }
   ],
   "source": [
    "# Manually we would do it like this\n",
    "sqrt(sum((z_proteins[2,]-z_proteins[4,])**2))"
   ]
  },
  {
   "cell_type": "markdown",
   "metadata": {},
   "source": [
    "Alright, all is set and we're ready to fit our model onto the data set. We'll be using the ward method for our model.\n",
    "Also, we should visualize our data via a Dendrogram to see the groups."
   ]
  },
  {
   "cell_type": "code",
   "execution_count": 8,
   "metadata": {
    "collapsed": false
   },
   "outputs": [
    {
     "data": {
      "image/png": "[encoded data removed]",
      "text/plain": [
       "Plot with title \"Protein Dendrogram\""
      ]
     },
     "metadata": {},
     "output_type": "display_data"
    }
   ],
   "source": [
    "clusters = hclust(d, method=\"ward.D\")\n",
    "\n",
    "plot(clusters, main=\"Protein Dendrogram\", labels=proteins[,1], cex=0.8, hang=-1)\n",
    "rect.hclust(clusters, k=4)"
   ]
  },
  {
   "cell_type": "markdown",
   "metadata": {},
   "source": [
    "Ok, as we can see there are 4 different groups(clusters) of Sources. Each Source was linked to the clossest one to it, and the\n",
    "proccess continued until all porints were conncected.\n",
    "\n",
    "If we look at our model we can which points were connected and at what distance. We have 26 Sources, so there are 25 \n",
    "connections.\n",
    "\n",
    "For example, we can see that Source 1 (Beef Braised) was merged with Source 11 (Smoked Ham) first.\n",
    "At level 12, source 10 (Llamb Shoulder Roast) merged with clusters that were formed in stage 1 & 6.\n",
    "In other words, source 10 merged with sources 1, 11, 12(Pork Roast), 13(Pork Simmered) and 4(Beef Steak).\n",
    "And eventually at the last stage merged all data points together into one big cluster."
   ]
  },
  {
   "cell_type": "code",
   "execution_count": 9,
   "metadata": {
    "collapsed": false
   },
   "outputs": [
    {
     "data": {
      "text/html": [
       "<table>\n",
       "<tbody>\n",
       "\t<tr><td> -1</td><td>-11</td></tr>\n",
       "\t<tr><td>-12</td><td>-13</td></tr>\n",
       "\t<tr><td> -7</td><td>-25</td></tr>\n",
       "\t<tr><td>-20</td><td>-24</td></tr>\n",
       "\t<tr><td> -2</td><td> -9</td></tr>\n",
       "\t<tr><td> -4</td><td>  2</td></tr>\n",
       "\t<tr><td>-22</td><td>-23</td></tr>\n",
       "\t<tr><td>  1</td><td>  6</td></tr>\n",
       "\t<tr><td> -5</td><td>-15</td></tr>\n",
       "\t<tr><td> -6</td><td>-16</td></tr>\n",
       "\t<tr><td>-19</td><td>  4</td></tr>\n",
       "\t<tr><td>-10</td><td>  8</td></tr>\n",
       "\t<tr><td>-21</td><td>  7</td></tr>\n",
       "\t<tr><td>-14</td><td>  5</td></tr>\n",
       "\t<tr><td>-17</td><td>-18</td></tr>\n",
       "\t<tr><td>-26</td><td>  9</td></tr>\n",
       "\t<tr><td>  3</td><td> 10</td></tr>\n",
       "\t<tr><td> 11</td><td> 13</td></tr>\n",
       "\t<tr><td> -3</td><td> 12</td></tr>\n",
       "\t<tr><td> 16</td><td> 17</td></tr>\n",
       "\t<tr><td> -8</td><td> 20</td></tr>\n",
       "\t<tr><td> 14</td><td> 21</td></tr>\n",
       "\t<tr><td> 18</td><td> 22</td></tr>\n",
       "\t<tr><td> 15</td><td> 23</td></tr>\n",
       "\t<tr><td> 19</td><td> 24</td></tr>\n",
       "</tbody>\n",
       "</table>\n"
      ],
      "text/latex": [
       "\\begin{tabular}{ll}\n",
       "\t  -1 & -11\\\\\n",
       "\t -12 & -13\\\\\n",
       "\t  -7 & -25\\\\\n",
       "\t -20 & -24\\\\\n",
       "\t  -2 &  -9\\\\\n",
       "\t  -4 &   2\\\\\n",
       "\t -22 & -23\\\\\n",
       "\t   1 &   6\\\\\n",
       "\t  -5 & -15\\\\\n",
       "\t  -6 & -16\\\\\n",
       "\t -19 &   4\\\\\n",
       "\t -10 &   8\\\\\n",
       "\t -21 &   7\\\\\n",
       "\t -14 &   5\\\\\n",
       "\t -17 & -18\\\\\n",
       "\t -26 &   9\\\\\n",
       "\t   3 &  10\\\\\n",
       "\t  11 &  13\\\\\n",
       "\t  -3 &  12\\\\\n",
       "\t  16 &  17\\\\\n",
       "\t  -8 &  20\\\\\n",
       "\t  14 &  21\\\\\n",
       "\t  18 &  22\\\\\n",
       "\t  15 &  23\\\\\n",
       "\t  19 &  24\\\\\n",
       "\\end{tabular}\n"
      ],
      "text/markdown": [
       "\n",
       "|  -1 | -11 | \n",
       "| -12 | -13 | \n",
       "|  -7 | -25 | \n",
       "| -20 | -24 | \n",
       "|  -2 |  -9 | \n",
       "|  -4 |   2 | \n",
       "| -22 | -23 | \n",
       "|   1 |   6 | \n",
       "|  -5 | -15 | \n",
       "|  -6 | -16 | \n",
       "| -19 |   4 | \n",
       "| -10 |   8 | \n",
       "| -21 |   7 | \n",
       "| -14 |   5 | \n",
       "| -17 | -18 | \n",
       "| -26 |   9 | \n",
       "|   3 |  10 | \n",
       "|  11 |  13 | \n",
       "|  -3 |  12 | \n",
       "|  16 |  17 | \n",
       "|  -8 |  20 | \n",
       "|  14 |  21 | \n",
       "|  18 |  22 | \n",
       "|  15 |  23 | \n",
       "|  19 |  24 | \n",
       "\n",
       "\n"
      ],
      "text/plain": [
       "      [,1] [,2]\n",
       " [1,]  -1  -11 \n",
       " [2,] -12  -13 \n",
       " [3,]  -7  -25 \n",
       " [4,] -20  -24 \n",
       " [5,]  -2   -9 \n",
       " [6,]  -4    2 \n",
       " [7,] -22  -23 \n",
       " [8,]   1    6 \n",
       " [9,]  -5  -15 \n",
       "[10,]  -6  -16 \n",
       "[11,] -19    4 \n",
       "[12,] -10    8 \n",
       "[13,] -21    7 \n",
       "[14,] -14    5 \n",
       "[15,] -17  -18 \n",
       "[16,] -26    9 \n",
       "[17,]   3   10 \n",
       "[18,]  11   13 \n",
       "[19,]  -3   12 \n",
       "[20,]  16   17 \n",
       "[21,]  -8   20 \n",
       "[22,]  14   21 \n",
       "[23,]  18   22 \n",
       "[24,]  15   23 \n",
       "[25,]  19   24 "
      ]
     },
     "metadata": {},
     "output_type": "display_data"
    }
   ],
   "source": [
    "clusters$merge"
   ]
  },
  {
   "cell_type": "markdown",
   "metadata": {},
   "source": [
    "Let's assign each source it's relevant cluster."
   ]
  },
  {
   "cell_type": "code",
   "execution_count": 10,
   "metadata": {
    "collapsed": false
   },
   "outputs": [
    {
     "data": {
      "text/html": [
       "<table>\n",
       "<thead><tr><th scope=col>source</th><th scope=col>energy</th><th scope=col>protein</th><th scope=col>fat</th><th scope=col>iron</th><th scope=col>cluster</th></tr></thead>\n",
       "<tbody>\n",
       "\t<tr><td>BEEF BRAISED   </td><td>340            </td><td>20             </td><td>28             </td><td>2.6            </td><td>1              </td></tr>\n",
       "\t<tr><td>HAMBURGER      </td><td>245            </td><td>21             </td><td>17             </td><td>2.7            </td><td>2              </td></tr>\n",
       "\t<tr><td>BEEF ROAST     </td><td>420            </td><td>15             </td><td>39             </td><td>2.0            </td><td>1              </td></tr>\n",
       "\t<tr><td>BEEF STEAK     </td><td>375            </td><td>19             </td><td>32             </td><td>2.6            </td><td>1              </td></tr>\n",
       "\t<tr><td>BEEF CANNED    </td><td>180            </td><td>22             </td><td>10             </td><td>3.7            </td><td>2              </td></tr>\n",
       "\t<tr><td>CHICKEN BROILED</td><td>115            </td><td>20             </td><td> 3             </td><td>1.4            </td><td>2              </td></tr>\n",
       "</tbody>\n",
       "</table>\n"
      ],
      "text/latex": [
       "\\begin{tabular}{r|llllll}\n",
       " source & energy & protein & fat & iron & cluster\\\\\n",
       "\\hline\n",
       "\t BEEF BRAISED    & 340             & 20              & 28              & 2.6             & 1              \\\\\n",
       "\t HAMBURGER       & 245             & 21              & 17              & 2.7             & 2              \\\\\n",
       "\t BEEF ROAST      & 420             & 15              & 39              & 2.0             & 1              \\\\\n",
       "\t BEEF STEAK      & 375             & 19              & 32              & 2.6             & 1              \\\\\n",
       "\t BEEF CANNED     & 180             & 22              & 10              & 3.7             & 2              \\\\\n",
       "\t CHICKEN BROILED & 115             & 20              &  3              & 1.4             & 2              \\\\\n",
       "\\end{tabular}\n"
      ],
      "text/markdown": [
       "\n",
       "source | energy | protein | fat | iron | cluster | \n",
       "|---|---|---|---|---|---|\n",
       "| BEEF BRAISED    | 340             | 20              | 28              | 2.6             | 1               | \n",
       "| HAMBURGER       | 245             | 21              | 17              | 2.7             | 2               | \n",
       "| BEEF ROAST      | 420             | 15              | 39              | 2.0             | 1               | \n",
       "| BEEF STEAK      | 375             | 19              | 32              | 2.6             | 1               | \n",
       "| BEEF CANNED     | 180             | 22              | 10              | 3.7             | 2               | \n",
       "| CHICKEN BROILED | 115             | 20              |  3              | 1.4             | 2               | \n",
       "\n",
       "\n"
      ],
      "text/plain": [
       "  source          energy protein fat iron cluster\n",
       "1 BEEF BRAISED    340    20      28  2.6  1      \n",
       "2 HAMBURGER       245    21      17  2.7  2      \n",
       "3 BEEF ROAST      420    15      39  2.0  1      \n",
       "4 BEEF STEAK      375    19      32  2.6  1      \n",
       "5 BEEF CANNED     180    22      10  3.7  2      \n",
       "6 CHICKEN BROILED 115    20       3  1.4  2      "
      ]
     },
     "metadata": {},
     "output_type": "display_data"
    }
   ],
   "source": [
    "proteins$cluster = cutree(clusters, k=4)\n",
    "head(proteins)"
   ]
  },
  {
   "cell_type": "markdown",
   "metadata": {},
   "source": [
    "Alright, now that we assigend the Sources to clusters we can start analyzing!\n",
    "Let's first see the size of our clusters."
   ]
  },
  {
   "cell_type": "code",
   "execution_count": 11,
   "metadata": {
    "collapsed": false
   },
   "outputs": [
    {
     "data": {
      "text/plain": [
       "\n",
       " 1  2  3  4 \n",
       " 7 11  2  6 "
      ]
     },
     "metadata": {},
     "output_type": "display_data"
    }
   ],
   "source": [
    "table(proteins$cluster)"
   ]
  },
  {
   "cell_type": "markdown",
   "metadata": {},
   "source": [
    "Ok, let's see how the clusters differentiate from one another by thier mean values."
   ]
  },
  {
   "cell_type": "code",
   "execution_count": 12,
   "metadata": {
    "collapsed": false
   },
   "outputs": [
    {
     "data": {
      "text/html": [
       "<table>\n",
       "<thead><tr><th scope=col>cluster</th><th scope=col>energy</th><th scope=col>protein</th><th scope=col>fat</th><th scope=col>iron</th></tr></thead>\n",
       "<tbody>\n",
       "\t<tr><td>1        </td><td>352.8571 </td><td>18.57143 </td><td>30.142857</td><td>2.414286 </td></tr>\n",
       "\t<tr><td>2        </td><td>176.3636 </td><td>22.27273 </td><td> 8.818182</td><td>2.490909 </td></tr>\n",
       "\t<tr><td>3        </td><td> 57.5000 </td><td> 9.00000 </td><td> 1.000000</td><td>5.700000 </td></tr>\n",
       "\t<tr><td>4        </td><td>149.1667 </td><td>16.33333 </td><td> 7.500000</td><td>1.016667 </td></tr>\n",
       "</tbody>\n",
       "</table>\n"
      ],
      "text/latex": [
       "\\begin{tabular}{r|lllll}\n",
       " cluster & energy & protein & fat & iron\\\\\n",
       "\\hline\n",
       "\t 1         & 352.8571  & 18.57143  & 30.142857 & 2.414286 \\\\\n",
       "\t 2         & 176.3636  & 22.27273  &  8.818182 & 2.490909 \\\\\n",
       "\t 3         &  57.5000  &  9.00000  &  1.000000 & 5.700000 \\\\\n",
       "\t 4         & 149.1667  & 16.33333  &  7.500000 & 1.016667 \\\\\n",
       "\\end{tabular}\n"
      ],
      "text/markdown": [
       "\n",
       "cluster | energy | protein | fat | iron | \n",
       "|---|---|---|---|\n",
       "| 1         | 352.8571  | 18.57143  | 30.142857 | 2.414286  | \n",
       "| 2         | 176.3636  | 22.27273  |  8.818182 | 2.490909  | \n",
       "| 3         |  57.5000  |  9.00000  |  1.000000 | 5.700000  | \n",
       "| 4         | 149.1667  | 16.33333  |  7.500000 | 1.016667  | \n",
       "\n",
       "\n"
      ],
      "text/plain": [
       "  cluster energy   protein  fat       iron    \n",
       "1 1       352.8571 18.57143 30.142857 2.414286\n",
       "2 2       176.3636 22.27273  8.818182 2.490909\n",
       "3 3        57.5000  9.00000  1.000000 5.700000\n",
       "4 4       149.1667 16.33333  7.500000 1.016667"
      ]
     },
     "metadata": {},
     "output_type": "display_data"
    }
   ],
   "source": [
    "mean_proteins = aggregate(cbind(energy, protein, fat, iron)~cluster, proteins, mean)\n",
    "mean_proteins"
   ]
  },
  {
   "cell_type": "markdown",
   "metadata": {},
   "source": [
    "Now let's plot all of our new data."
   ]
  },
  {
   "cell_type": "code",
   "execution_count": 13,
   "metadata": {
    "collapsed": false
   },
   "outputs": [
    {
     "data": {
      "image/png": "[encoded data removed]",
      "text/plain": [
       "Plot with title \"Mean Iron by Cluster\""
      ]
     },
     "metadata": {},
     "output_type": "display_data"
    }
   ],
   "source": [
    "par(mfrow=c(2,2))\n",
    "xTicks = mean_proteins[,1]\n",
    "colors = c(\"green\" ,\"red\", \"lightblue\", \"purple\")\n",
    "barplot(mean_proteins$energy, main=\"Mean Energy by Cluster\", names.arg=xTicks, xlab=\"Cluster\", ylab=\"Energy\", col=colors)\n",
    "barplot(mean_proteins$protein, main=\"Mean Protien by Cluster\", names.arg=xTicks, xlab=\"Cluster\", ylab=\"Protein\", col=colors)\n",
    "barplot(mean_proteins$fat, main=\"Mean Fat by Cluster\", names.arg=xTicks, xlab=\"Cluster\", ylab=\"Fat\", col=colors)\n",
    "barplot(mean_proteins$iron, main=\"Mean Iron by Cluster\", names.arg=xTicks, xlab=\"Cluster\", ylab=\"Iron\", col=colors)"
   ]
  },
  {
   "cell_type": "code",
   "execution_count": 14,
   "metadata": {
    "collapsed": false
   },
   "outputs": [
    {
     "data": {
      "image/png": "[encoded data removed]",
      "text/plain": [
       "plot without title"
      ]
     },
     "metadata": {},
     "output_type": "display_data"
    }
   ],
   "source": [
    "plot(proteins[,2:5], col=colors)"
   ]
  },
  {
   "cell_type": "markdown",
   "metadata": {},
   "source": [
    "Cluster 1 seems to consist of all the smoked and roasted red meets. high in fat, protiens and energy."
   ]
  },
  {
   "cell_type": "code",
   "execution_count": 15,
   "metadata": {
    "collapsed": false
   },
   "outputs": [
    {
     "data": {
      "text/html": [
       "<table>\n",
       "<thead><tr><th></th><th scope=col>source</th><th scope=col>energy</th><th scope=col>protein</th><th scope=col>fat</th><th scope=col>iron</th><th scope=col>cluster</th></tr></thead>\n",
       "<tbody>\n",
       "\t<tr><th scope=row>1</th><td>BEEF BRAISED       </td><td>340                </td><td>20                 </td><td>28                 </td><td>2.6                </td><td>1                  </td></tr>\n",
       "\t<tr><th scope=row>3</th><td>BEEF ROAST         </td><td>420                </td><td>15                 </td><td>39                 </td><td>2.0                </td><td>1                  </td></tr>\n",
       "\t<tr><th scope=row>4</th><td>BEEF STEAK         </td><td>375                </td><td>19                 </td><td>32                 </td><td>2.6                </td><td>1                  </td></tr>\n",
       "\t<tr><th scope=row>10</th><td>LAMB SHOULDER ROAST</td><td>300                </td><td>18                 </td><td>25                 </td><td>2.3                </td><td>1                  </td></tr>\n",
       "\t<tr><th scope=row>11</th><td>SMOKED HAM         </td><td>340                </td><td>20                 </td><td>28                 </td><td>2.5                </td><td>1                  </td></tr>\n",
       "\t<tr><th scope=row>12</th><td>PORK ROAST         </td><td>340                </td><td>19                 </td><td>29                 </td><td>2.5                </td><td>1                  </td></tr>\n",
       "\t<tr><th scope=row>13</th><td>PORK SIMMERED      </td><td>355                </td><td>19                 </td><td>30                 </td><td>2.4                </td><td>1                  </td></tr>\n",
       "</tbody>\n",
       "</table>\n"
      ],
      "text/latex": [
       "\\begin{tabular}{r|llllll}\n",
       "  & source & energy & protein & fat & iron & cluster\\\\\n",
       "\\hline\n",
       "\t1 & BEEF BRAISED        & 340                 & 20                  & 28                  & 2.6                 & 1                  \\\\\n",
       "\t3 & BEEF ROAST          & 420                 & 15                  & 39                  & 2.0                 & 1                  \\\\\n",
       "\t4 & BEEF STEAK          & 375                 & 19                  & 32                  & 2.6                 & 1                  \\\\\n",
       "\t10 & LAMB SHOULDER ROAST & 300                 & 18                  & 25                  & 2.3                 & 1                  \\\\\n",
       "\t11 & SMOKED HAM          & 340                 & 20                  & 28                  & 2.5                 & 1                  \\\\\n",
       "\t12 & PORK ROAST          & 340                 & 19                  & 29                  & 2.5                 & 1                  \\\\\n",
       "\t13 & PORK SIMMERED       & 355                 & 19                  & 30                  & 2.4                 & 1                  \\\\\n",
       "\\end{tabular}\n"
      ],
      "text/markdown": [
       "\n",
       "| <!--/--> | source | energy | protein | fat | iron | cluster | \n",
       "|---|---|---|---|---|---|---|\n",
       "| 1 | BEEF BRAISED        | 340                 | 20                  | 28                  | 2.6                 | 1                   | \n",
       "| 3 | BEEF ROAST          | 420                 | 15                  | 39                  | 2.0                 | 1                   | \n",
       "| 4 | BEEF STEAK          | 375                 | 19                  | 32                  | 2.6                 | 1                   | \n",
       "| 10 | LAMB SHOULDER ROAST | 300                 | 18                  | 25                  | 2.3                 | 1                   | \n",
       "| 11 | SMOKED HAM          | 340                 | 20                  | 28                  | 2.5                 | 1                   | \n",
       "| 12 | PORK ROAST          | 340                 | 19                  | 29                  | 2.5                 | 1                   | \n",
       "| 13 | PORK SIMMERED       | 355                 | 19                  | 30                  | 2.4                 | 1                   | \n",
       "\n",
       "\n"
      ],
      "text/plain": [
       "   source              energy protein fat iron cluster\n",
       "1  BEEF BRAISED        340    20      28  2.6  1      \n",
       "3  BEEF ROAST          420    15      39  2.0  1      \n",
       "4  BEEF STEAK          375    19      32  2.6  1      \n",
       "10 LAMB SHOULDER ROAST 300    18      25  2.3  1      \n",
       "11 SMOKED HAM          340    20      28  2.5  1      \n",
       "12 PORK ROAST          340    19      29  2.5  1      \n",
       "13 PORK SIMMERED       355    19      30  2.4  1      "
      ]
     },
     "metadata": {},
     "output_type": "display_data"
    }
   ],
   "source": [
    "subset(proteins, proteins$cluster == 1)"
   ]
  },
  {
   "cell_type": "markdown",
   "metadata": {},
   "source": [
    "Cluster 2 seems to consist of clams. high in iron but low on the rest."
   ]
  },
  {
   "cell_type": "code",
   "execution_count": 16,
   "metadata": {
    "collapsed": false
   },
   "outputs": [
    {
     "data": {
      "text/html": [
       "<table>\n",
       "<thead><tr><th></th><th scope=col>source</th><th scope=col>energy</th><th scope=col>protein</th><th scope=col>fat</th><th scope=col>iron</th><th scope=col>cluster</th></tr></thead>\n",
       "<tbody>\n",
       "\t<tr><th scope=row>2</th><td>HAMBURGER      </td><td>245            </td><td>21             </td><td>17             </td><td>2.7            </td><td>2              </td></tr>\n",
       "\t<tr><th scope=row>5</th><td>BEEF CANNED    </td><td>180            </td><td>22             </td><td>10             </td><td>3.7            </td><td>2              </td></tr>\n",
       "\t<tr><th scope=row>6</th><td>CHICKEN BROILED</td><td>115            </td><td>20             </td><td> 3             </td><td>1.4            </td><td>2              </td></tr>\n",
       "\t<tr><th scope=row>7</th><td>CHICKEN CANNED </td><td>170            </td><td>25             </td><td> 7             </td><td>1.5            </td><td>2              </td></tr>\n",
       "\t<tr><th scope=row>8</th><td>BEEF HEART     </td><td>160            </td><td>26             </td><td> 5             </td><td>5.9            </td><td>2              </td></tr>\n",
       "\t<tr><th scope=row>9</th><td>LAMB LEG ROAST </td><td>265            </td><td>20             </td><td>20             </td><td>2.6            </td><td>2              </td></tr>\n",
       "\t<tr><th scope=row>14</th><td>BEEF TONGUE    </td><td>205            </td><td>18             </td><td>14             </td><td>2.5            </td><td>2              </td></tr>\n",
       "\t<tr><th scope=row>15</th><td>VEAL CUTLET    </td><td>185            </td><td>23             </td><td> 9             </td><td>2.7            </td><td>2              </td></tr>\n",
       "\t<tr><th scope=row>16</th><td>BLUEFISH BAKED </td><td>135            </td><td>22             </td><td> 4             </td><td>0.6            </td><td>2              </td></tr>\n",
       "\t<tr><th scope=row>25</th><td>TUNA CANNED    </td><td>170            </td><td>25             </td><td> 7             </td><td>1.2            </td><td>2              </td></tr>\n",
       "\t<tr><th scope=row>26</th><td>SHRIMP CANNED  </td><td>110            </td><td>23             </td><td> 1             </td><td>2.6            </td><td>2              </td></tr>\n",
       "</tbody>\n",
       "</table>\n"
      ],
      "text/latex": [
       "\\begin{tabular}{r|llllll}\n",
       "  & source & energy & protein & fat & iron & cluster\\\\\n",
       "\\hline\n",
       "\t2 & HAMBURGER       & 245             & 21              & 17              & 2.7             & 2              \\\\\n",
       "\t5 & BEEF CANNED     & 180             & 22              & 10              & 3.7             & 2              \\\\\n",
       "\t6 & CHICKEN BROILED & 115             & 20              &  3              & 1.4             & 2              \\\\\n",
       "\t7 & CHICKEN CANNED  & 170             & 25              &  7              & 1.5             & 2              \\\\\n",
       "\t8 & BEEF HEART      & 160             & 26              &  5              & 5.9             & 2              \\\\\n",
       "\t9 & LAMB LEG ROAST  & 265             & 20              & 20              & 2.6             & 2              \\\\\n",
       "\t14 & BEEF TONGUE     & 205             & 18              & 14              & 2.5             & 2              \\\\\n",
       "\t15 & VEAL CUTLET     & 185             & 23              &  9              & 2.7             & 2              \\\\\n",
       "\t16 & BLUEFISH BAKED  & 135             & 22              &  4              & 0.6             & 2              \\\\\n",
       "\t25 & TUNA CANNED     & 170             & 25              &  7              & 1.2             & 2              \\\\\n",
       "\t26 & SHRIMP CANNED   & 110             & 23              &  1              & 2.6             & 2              \\\\\n",
       "\\end{tabular}\n"
      ],
      "text/markdown": [
       "\n",
       "| <!--/--> | source | energy | protein | fat | iron | cluster | \n",
       "|---|---|---|---|---|---|---|---|---|---|---|\n",
       "| 2 | HAMBURGER       | 245             | 21              | 17              | 2.7             | 2               | \n",
       "| 5 | BEEF CANNED     | 180             | 22              | 10              | 3.7             | 2               | \n",
       "| 6 | CHICKEN BROILED | 115             | 20              |  3              | 1.4             | 2               | \n",
       "| 7 | CHICKEN CANNED  | 170             | 25              |  7              | 1.5             | 2               | \n",
       "| 8 | BEEF HEART      | 160             | 26              |  5              | 5.9             | 2               | \n",
       "| 9 | LAMB LEG ROAST  | 265             | 20              | 20              | 2.6             | 2               | \n",
       "| 14 | BEEF TONGUE     | 205             | 18              | 14              | 2.5             | 2               | \n",
       "| 15 | VEAL CUTLET     | 185             | 23              |  9              | 2.7             | 2               | \n",
       "| 16 | BLUEFISH BAKED  | 135             | 22              |  4              | 0.6             | 2               | \n",
       "| 25 | TUNA CANNED     | 170             | 25              |  7              | 1.2             | 2               | \n",
       "| 26 | SHRIMP CANNED   | 110             | 23              |  1              | 2.6             | 2               | \n",
       "\n",
       "\n"
      ],
      "text/plain": [
       "   source          energy protein fat iron cluster\n",
       "2  HAMBURGER       245    21      17  2.7  2      \n",
       "5  BEEF CANNED     180    22      10  3.7  2      \n",
       "6  CHICKEN BROILED 115    20       3  1.4  2      \n",
       "7  CHICKEN CANNED  170    25       7  1.5  2      \n",
       "8  BEEF HEART      160    26       5  5.9  2      \n",
       "9  LAMB LEG ROAST  265    20      20  2.6  2      \n",
       "14 BEEF TONGUE     205    18      14  2.5  2      \n",
       "15 VEAL CUTLET     185    23       9  2.7  2      \n",
       "16 BLUEFISH BAKED  135    22       4  0.6  2      \n",
       "25 TUNA CANNED     170    25       7  1.2  2      \n",
       "26 SHRIMP CANNED   110    23       1  2.6  2      "
      ]
     },
     "metadata": {},
     "output_type": "display_data"
    }
   ],
   "source": [
    "subset(proteins, proteins$cluster == 2)"
   ]
  },
  {
   "cell_type": "markdown",
   "metadata": {},
   "source": [
    "Cluster 3 seems to consist of all the the fish sources of protien. pretty average amongst the other clusters."
   ]
  },
  {
   "cell_type": "code",
   "execution_count": 17,
   "metadata": {
    "collapsed": false
   },
   "outputs": [
    {
     "data": {
      "text/html": [
       "<table>\n",
       "<thead><tr><th></th><th scope=col>source</th><th scope=col>energy</th><th scope=col>protein</th><th scope=col>fat</th><th scope=col>iron</th><th scope=col>cluster</th></tr></thead>\n",
       "<tbody>\n",
       "\t<tr><th scope=row>17</th><td>CLAMS RAW   </td><td>70          </td><td>11          </td><td>1           </td><td>6.0         </td><td>3           </td></tr>\n",
       "\t<tr><th scope=row>18</th><td>CLAMS CANNED</td><td>45          </td><td> 7          </td><td>1           </td><td>5.4         </td><td>3           </td></tr>\n",
       "</tbody>\n",
       "</table>\n"
      ],
      "text/latex": [
       "\\begin{tabular}{r|llllll}\n",
       "  & source & energy & protein & fat & iron & cluster\\\\\n",
       "\\hline\n",
       "\t17 & CLAMS RAW    & 70           & 11           & 1            & 6.0          & 3           \\\\\n",
       "\t18 & CLAMS CANNED & 45           &  7           & 1            & 5.4          & 3           \\\\\n",
       "\\end{tabular}\n"
      ],
      "text/markdown": [
       "\n",
       "| <!--/--> | source | energy | protein | fat | iron | cluster | \n",
       "|---|---|\n",
       "| 17 | CLAMS RAW    | 70           | 11           | 1            | 6.0          | 3            | \n",
       "| 18 | CLAMS CANNED | 45           |  7           | 1            | 5.4          | 3            | \n",
       "\n",
       "\n"
      ],
      "text/plain": [
       "   source       energy protein fat iron cluster\n",
       "17 CLAMS RAW    70     11      1   6.0  3      \n",
       "18 CLAMS CANNED 45      7      1   5.4  3      "
      ]
     },
     "metadata": {},
     "output_type": "display_data"
    }
   ],
   "source": [
    "subset(proteins, proteins$cluster == 3)"
   ]
  },
  {
   "cell_type": "markdown",
   "metadata": {},
   "source": [
    "Cluster 4 seems to consist of high sources of protien while pretty average on the rest of the features.\n",
    "In other words, your casual sources of protien."
   ]
  },
  {
   "cell_type": "code",
   "execution_count": 18,
   "metadata": {
    "collapsed": false
   },
   "outputs": [
    {
     "data": {
      "text/html": [
       "<table>\n",
       "<thead><tr><th></th><th scope=col>source</th><th scope=col>energy</th><th scope=col>protein</th><th scope=col>fat</th><th scope=col>iron</th><th scope=col>cluster</th></tr></thead>\n",
       "<tbody>\n",
       "\t<tr><th scope=row>19</th><td>CRABMEAT CANNED </td><td> 90             </td><td>14              </td><td> 2              </td><td>0.8             </td><td>4               </td></tr>\n",
       "\t<tr><th scope=row>20</th><td>HADDOCK FRIED   </td><td>135             </td><td>16              </td><td> 5              </td><td>0.5             </td><td>4               </td></tr>\n",
       "\t<tr><th scope=row>21</th><td>MACKEREL BROILED</td><td>200             </td><td>19              </td><td>13              </td><td>1.0             </td><td>4               </td></tr>\n",
       "\t<tr><th scope=row>22</th><td>MACKEREL CANNED </td><td>155             </td><td>16              </td><td> 9              </td><td>1.8             </td><td>4               </td></tr>\n",
       "\t<tr><th scope=row>23</th><td>PERCH FRIED     </td><td>195             </td><td>16              </td><td>11              </td><td>1.3             </td><td>4               </td></tr>\n",
       "\t<tr><th scope=row>24</th><td>SALMON CANNED   </td><td>120             </td><td>17              </td><td> 5              </td><td>0.7             </td><td>4               </td></tr>\n",
       "</tbody>\n",
       "</table>\n"
      ],
      "text/latex": [
       "\\begin{tabular}{r|llllll}\n",
       "  & source & energy & protein & fat & iron & cluster\\\\\n",
       "\\hline\n",
       "\t19 & CRABMEAT CANNED  &  90              & 14               &  2               & 0.8              & 4               \\\\\n",
       "\t20 & HADDOCK FRIED    & 135              & 16               &  5               & 0.5              & 4               \\\\\n",
       "\t21 & MACKEREL BROILED & 200              & 19               & 13               & 1.0              & 4               \\\\\n",
       "\t22 & MACKEREL CANNED  & 155              & 16               &  9               & 1.8              & 4               \\\\\n",
       "\t23 & PERCH FRIED      & 195              & 16               & 11               & 1.3              & 4               \\\\\n",
       "\t24 & SALMON CANNED    & 120              & 17               &  5               & 0.7              & 4               \\\\\n",
       "\\end{tabular}\n"
      ],
      "text/markdown": [
       "\n",
       "| <!--/--> | source | energy | protein | fat | iron | cluster | \n",
       "|---|---|---|---|---|---|\n",
       "| 19 | CRABMEAT CANNED  |  90              | 14               |  2               | 0.8              | 4                | \n",
       "| 20 | HADDOCK FRIED    | 135              | 16               |  5               | 0.5              | 4                | \n",
       "| 21 | MACKEREL BROILED | 200              | 19               | 13               | 1.0              | 4                | \n",
       "| 22 | MACKEREL CANNED  | 155              | 16               |  9               | 1.8              | 4                | \n",
       "| 23 | PERCH FRIED      | 195              | 16               | 11               | 1.3              | 4                | \n",
       "| 24 | SALMON CANNED    | 120              | 17               |  5               | 0.7              | 4                | \n",
       "\n",
       "\n"
      ],
      "text/plain": [
       "   source           energy protein fat iron cluster\n",
       "19 CRABMEAT CANNED   90    14       2  0.8  4      \n",
       "20 HADDOCK FRIED    135    16       5  0.5  4      \n",
       "21 MACKEREL BROILED 200    19      13  1.0  4      \n",
       "22 MACKEREL CANNED  155    16       9  1.8  4      \n",
       "23 PERCH FRIED      195    16      11  1.3  4      \n",
       "24 SALMON CANNED    120    17       5  0.7  4      "
      ]
     },
     "metadata": {},
     "output_type": "display_data"
    }
   ],
   "source": [
    "subset(proteins, proteins$cluster == 4)"
   ]
  }
 ],
 "metadata": {
  "kernelspec": {
   "display_name": "R",
   "language": "R",
   "name": "ir"
  },
  "language_info": {
   "codemirror_mode": "r",
   "file_extension": ".r",
   "mimetype": "text/x-r-source",
   "name": "R",
   "pygments_lexer": "r",
   "version": "3.3.2"
  }
 },
 "nbformat": 4,
 "nbformat_minor": 2
}
